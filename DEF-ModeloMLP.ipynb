{
 "cells": [
  {
   "cell_type": "code",
   "execution_count": 1,
   "id": "9c6046f8",
   "metadata": {},
   "outputs": [],
   "source": [
    "import numpy as np\n",
    "import pandas as pd\n",
    "import tensorflow as tf\n",
    "from tensorflow import keras\n",
    "from keras import models\n",
    "from keras import layers\n",
    "from sklearn.preprocessing import LabelEncoder, MinMaxScaler"
   ]
  },
  {
   "cell_type": "code",
   "execution_count": 2,
   "id": "e7fbde6c",
   "metadata": {},
   "outputs": [
    {
     "name": "stdout",
     "output_type": "stream",
     "text": [
      "Model: \"3_layer_mlp\"\n",
      "_________________________________________________________________\n",
      " Layer (type)                Output Shape              Param #   \n",
      "=================================================================\n",
      " Input (InputLayer)          [(None, 4)]               0         \n",
      "                                                                 \n",
      " dense_1 (Dense)             (None, 20)                100       \n",
      "                                                                 \n",
      " Output (Dense)              (None, 3)                 63        \n",
      "                                                                 \n",
      "=================================================================\n",
      "Total params: 163\n",
      "Trainable params: 163\n",
      "Non-trainable params: 0\n",
      "_________________________________________________________________\n",
      "WARNING:tensorflow:Compiled the loaded model, but the compiled metrics have yet to be built. `model.compile_metrics` will be empty until you train or evaluate the model.\n"
     ]
    }
   ],
   "source": [
    "inputs = keras.Input(shape=(4,), name = 'Input')\n",
    "x = layers.Dense(20, activation='relu', name = 'dense_1')(inputs)\n",
    "outputs = layers.Dense(3, activation='softmax', name = 'Output')(x)\n",
    "\n",
    "model = keras.Model(inputs = inputs, outputs = outputs, name = '3_layer_mlp')\n",
    "model.summary()\n",
    "\n",
    "model.save('PesosInicializadosMLP.h5')"
   ]
  },
  {
   "cell_type": "code",
   "execution_count": 3,
   "id": "73afd1e5",
   "metadata": {},
   "outputs": [
    {
     "data": {
      "text/plain": [
       "[array([[-0.44959486,  0.12593699, -0.3429649 , -0.17981672, -0.18281984,\n",
       "          0.1927898 , -0.01641762,  0.08737934,  0.37636518,  0.4838029 ,\n",
       "         -0.46173787, -0.10640061,  0.10177159, -0.45954823,  0.03640795,\n",
       "          0.16199028,  0.19709527, -0.2041012 , -0.33197606,  0.11369538],\n",
       "        [ 0.0751698 , -0.10157096,  0.21547937,  0.30593717,  0.11750305,\n",
       "         -0.48668993, -0.07157063, -0.2264731 ,  0.35908437,  0.23230588,\n",
       "         -0.4982071 , -0.20281005, -0.16941094,  0.45826793,  0.48944342,\n",
       "          0.13947141, -0.22024262, -0.03553081,  0.3986013 , -0.04532492],\n",
       "        [ 0.25814152, -0.09055889,  0.3671837 ,  0.11153305,  0.48882318,\n",
       "         -0.14017844,  0.1194272 ,  0.11930001, -0.26316106, -0.385373  ,\n",
       "          0.41314328, -0.04921281, -0.04318893,  0.16688204,  0.28609002,\n",
       "          0.1143434 , -0.2653818 ,  0.44565356, -0.26916468,  0.26114225],\n",
       "        [ 0.18465388,  0.3629682 ,  0.20496833, -0.15205324,  0.36093104,\n",
       "          0.10756624, -0.4016825 ,  0.03780663, -0.27486873,  0.48484552,\n",
       "          0.06826198, -0.27984476, -0.4326458 ,  0.46960044, -0.44709074,\n",
       "         -0.2462579 , -0.02432323,  0.38397288,  0.10811901, -0.37937534]],\n",
       "       dtype=float32),\n",
       " array([0., 0., 0., 0., 0., 0., 0., 0., 0., 0., 0., 0., 0., 0., 0., 0., 0.,\n",
       "        0., 0., 0.], dtype=float32),\n",
       " array([[-0.02635649, -0.36315674, -0.0757007 ],\n",
       "        [ 0.16976744,  0.3778717 , -0.1416851 ],\n",
       "        [-0.17335758,  0.42130357,  0.13303578],\n",
       "        [-0.44806653,  0.11751199, -0.2502547 ],\n",
       "        [ 0.06972015, -0.28148782,  0.02696693],\n",
       "        [ 0.18044311,  0.17580998,  0.39353687],\n",
       "        [ 0.20599377, -0.36533284,  0.5029898 ],\n",
       "        [-0.11530024,  0.39418495,  0.05382097],\n",
       "        [ 0.0689289 ,  0.34881294,  0.5033017 ],\n",
       "        [-0.07747954,  0.3415947 , -0.22664541],\n",
       "        [-0.3104573 , -0.3301327 , -0.42680568],\n",
       "        [ 0.21594995,  0.4999568 ,  0.14779931],\n",
       "        [-0.5087604 , -0.48373938, -0.46177685],\n",
       "        [-0.3972715 , -0.2785901 ,  0.21622592],\n",
       "        [ 0.44596958, -0.11915901,  0.22552234],\n",
       "        [ 0.33275217,  0.41174805,  0.17129827],\n",
       "        [-0.07077593,  0.0212208 , -0.04851678],\n",
       "        [-0.35622674,  0.37883395, -0.11695552],\n",
       "        [ 0.14917636,  0.20646918,  0.19168603],\n",
       "        [ 0.42830652, -0.2597574 , -0.1207054 ]], dtype=float32),\n",
       " array([0., 0., 0.], dtype=float32)]"
      ]
     },
     "execution_count": 3,
     "metadata": {},
     "output_type": "execute_result"
    }
   ],
   "source": [
    "model.get_weights()"
   ]
  },
  {
   "cell_type": "code",
   "execution_count": 4,
   "id": "6729c46e",
   "metadata": {},
   "outputs": [
    {
     "data": {
      "text/plain": [
       "\"(x_train, y_train), (x_test, y_test) = keras.datasets.mnist.load_data()\\nx_train = x_train.reshape(60000, 784).astype('float32') / 255\\nx_test = x_test.reshape(10000, 784).astype('float32') / 255\\n\\nmodel.compile(loss='sparse_categorical_crossentropy',\\n              optimizer=keras.optimizers.RMSprop())\\nhistory = model.fit(x_train, y_train,\\n                    batch_size=64,\\n                    epochs=1)\\n                    \\npredictions = model.predict(x_test)\""
      ]
     },
     "execution_count": 4,
     "metadata": {},
     "output_type": "execute_result"
    }
   ],
   "source": [
    "\"\"\"(x_train, y_train), (x_test, y_test) = keras.datasets.mnist.load_data()\n",
    "x_train = x_train.reshape(60000, 784).astype('float32') / 255\n",
    "x_test = x_test.reshape(10000, 784).astype('float32') / 255\n",
    "\n",
    "model.compile(loss='sparse_categorical_crossentropy',\n",
    "              optimizer=keras.optimizers.RMSprop())\n",
    "history = model.fit(x_train, y_train,\n",
    "                    batch_size=64,\n",
    "                    epochs=1)\n",
    "                    \n",
    "predictions = model.predict(x_test)\"\"\""
   ]
  },
  {
   "cell_type": "code",
   "execution_count": 5,
   "id": "7a15dcc0",
   "metadata": {},
   "outputs": [
    {
     "data": {
      "text/plain": [
       "\"# Guardar el Modelo\\nmodel.save('path_to_my_model.h5')\\n\\n# Recrea exactamente el mismo modelo solo desde el archivo\\nnew_model = keras.models.load_model('path_to_my_model.h5')\""
      ]
     },
     "execution_count": 5,
     "metadata": {},
     "output_type": "execute_result"
    }
   ],
   "source": [
    "\"\"\"# Guardar el Modelo\n",
    "model.save('path_to_my_model.h5')\n",
    "\n",
    "# Recrea exactamente el mismo modelo solo desde el archivo\n",
    "new_model = keras.models.load_model('path_to_my_model.h5')\"\"\""
   ]
  },
  {
   "cell_type": "code",
   "execution_count": 6,
   "id": "292890f3",
   "metadata": {},
   "outputs": [
    {
     "data": {
      "text/html": [
       "<div>\n",
       "<style scoped>\n",
       "    .dataframe tbody tr th:only-of-type {\n",
       "        vertical-align: middle;\n",
       "    }\n",
       "\n",
       "    .dataframe tbody tr th {\n",
       "        vertical-align: top;\n",
       "    }\n",
       "\n",
       "    .dataframe thead th {\n",
       "        text-align: right;\n",
       "    }\n",
       "</style>\n",
       "<table border=\"1\" class=\"dataframe\">\n",
       "  <thead>\n",
       "    <tr style=\"text-align: right;\">\n",
       "      <th></th>\n",
       "      <th>0</th>\n",
       "      <th>1</th>\n",
       "      <th>2</th>\n",
       "      <th>3</th>\n",
       "    </tr>\n",
       "  </thead>\n",
       "  <tbody>\n",
       "    <tr>\n",
       "      <th>0</th>\n",
       "      <td>0.222222</td>\n",
       "      <td>0.625000</td>\n",
       "      <td>0.067797</td>\n",
       "      <td>0.041667</td>\n",
       "    </tr>\n",
       "    <tr>\n",
       "      <th>1</th>\n",
       "      <td>0.166667</td>\n",
       "      <td>0.416667</td>\n",
       "      <td>0.067797</td>\n",
       "      <td>0.041667</td>\n",
       "    </tr>\n",
       "    <tr>\n",
       "      <th>2</th>\n",
       "      <td>0.111111</td>\n",
       "      <td>0.500000</td>\n",
       "      <td>0.050847</td>\n",
       "      <td>0.041667</td>\n",
       "    </tr>\n",
       "    <tr>\n",
       "      <th>3</th>\n",
       "      <td>0.083333</td>\n",
       "      <td>0.458333</td>\n",
       "      <td>0.084746</td>\n",
       "      <td>0.041667</td>\n",
       "    </tr>\n",
       "    <tr>\n",
       "      <th>4</th>\n",
       "      <td>0.194444</td>\n",
       "      <td>0.666667</td>\n",
       "      <td>0.067797</td>\n",
       "      <td>0.041667</td>\n",
       "    </tr>\n",
       "    <tr>\n",
       "      <th>...</th>\n",
       "      <td>...</td>\n",
       "      <td>...</td>\n",
       "      <td>...</td>\n",
       "      <td>...</td>\n",
       "    </tr>\n",
       "    <tr>\n",
       "      <th>145</th>\n",
       "      <td>0.666667</td>\n",
       "      <td>0.416667</td>\n",
       "      <td>0.711864</td>\n",
       "      <td>0.916667</td>\n",
       "    </tr>\n",
       "    <tr>\n",
       "      <th>146</th>\n",
       "      <td>0.555556</td>\n",
       "      <td>0.208333</td>\n",
       "      <td>0.677966</td>\n",
       "      <td>0.750000</td>\n",
       "    </tr>\n",
       "    <tr>\n",
       "      <th>147</th>\n",
       "      <td>0.611111</td>\n",
       "      <td>0.416667</td>\n",
       "      <td>0.711864</td>\n",
       "      <td>0.791667</td>\n",
       "    </tr>\n",
       "    <tr>\n",
       "      <th>148</th>\n",
       "      <td>0.527778</td>\n",
       "      <td>0.583333</td>\n",
       "      <td>0.745763</td>\n",
       "      <td>0.916667</td>\n",
       "    </tr>\n",
       "    <tr>\n",
       "      <th>149</th>\n",
       "      <td>0.444444</td>\n",
       "      <td>0.416667</td>\n",
       "      <td>0.694915</td>\n",
       "      <td>0.708333</td>\n",
       "    </tr>\n",
       "  </tbody>\n",
       "</table>\n",
       "<p>150 rows × 4 columns</p>\n",
       "</div>"
      ],
      "text/plain": [
       "            0         1         2         3\n",
       "0    0.222222  0.625000  0.067797  0.041667\n",
       "1    0.166667  0.416667  0.067797  0.041667\n",
       "2    0.111111  0.500000  0.050847  0.041667\n",
       "3    0.083333  0.458333  0.084746  0.041667\n",
       "4    0.194444  0.666667  0.067797  0.041667\n",
       "..        ...       ...       ...       ...\n",
       "145  0.666667  0.416667  0.711864  0.916667\n",
       "146  0.555556  0.208333  0.677966  0.750000\n",
       "147  0.611111  0.416667  0.711864  0.791667\n",
       "148  0.527778  0.583333  0.745763  0.916667\n",
       "149  0.444444  0.416667  0.694915  0.708333\n",
       "\n",
       "[150 rows x 4 columns]"
      ]
     },
     "execution_count": 6,
     "metadata": {},
     "output_type": "execute_result"
    }
   ],
   "source": [
    "datosRaw = pd.read_csv('iris.data', header = None)\n",
    "datosRaw.columns = ['Sepal-width','Sepal-height','Petal-width','Petal-height', 'Iris-type']\n",
    "datosRaw\n",
    "X = datosRaw.drop('Iris-type', axis = 1)\n",
    "y = datosRaw['Iris-type']\n",
    "labelEncoder = LabelEncoder()\n",
    "scaler = MinMaxScaler()\n",
    "\n",
    "X = scaler.fit_transform(X)\n",
    "X = pd.DataFrame(X)\n",
    "# 0 = Iris-setosa, 1 = Iris-versicolor , 2 = Iris-virginica\n",
    "y = labelEncoder.fit_transform(y)\n",
    "X"
   ]
  },
  {
   "cell_type": "code",
   "execution_count": null,
   "id": "a83842c4",
   "metadata": {},
   "outputs": [],
   "source": [
    "model.predict(X[0])"
   ]
  }
 ],
 "metadata": {
  "kernelspec": {
   "display_name": "Python 3 (ipykernel)",
   "language": "python",
   "name": "python3"
  },
  "language_info": {
   "codemirror_mode": {
    "name": "ipython",
    "version": 3
   },
   "file_extension": ".py",
   "mimetype": "text/x-python",
   "name": "python",
   "nbconvert_exporter": "python",
   "pygments_lexer": "ipython3",
   "version": "3.9.7"
  }
 },
 "nbformat": 4,
 "nbformat_minor": 5
}
