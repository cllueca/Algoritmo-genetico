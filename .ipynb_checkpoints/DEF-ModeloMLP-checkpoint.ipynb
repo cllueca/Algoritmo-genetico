{
 "cells": [
  {
   "cell_type": "code",
   "execution_count": 20,
   "id": "d06ff240",
   "metadata": {},
   "outputs": [],
   "source": [
    "import numpy as np\n",
    "import pandas as pd\n",
    "import tensorflow as tf\n",
    "from tensorflow import keras\n",
    "from keras import models\n",
    "from keras import layers"
   ]
  },
  {
   "cell_type": "code",
   "execution_count": 21,
   "id": "32c6f3e1",
   "metadata": {},
   "outputs": [
    {
     "name": "stdout",
     "output_type": "stream",
     "text": [
      "Model: \"3_layer_mlp\"\n",
      "_________________________________________________________________\n",
      " Layer (type)                Output Shape              Param #   \n",
      "=================================================================\n",
      " Input (InputLayer)          [(None, 4)]               0         \n",
      "                                                                 \n",
      " dense_1 (Dense)             (None, 20)                100       \n",
      "                                                                 \n",
      " Output (Dense)              (None, 3)                 63        \n",
      "                                                                 \n",
      "=================================================================\n",
      "Total params: 163\n",
      "Trainable params: 163\n",
      "Non-trainable params: 0\n",
      "_________________________________________________________________\n",
      "WARNING:tensorflow:Compiled the loaded model, but the compiled metrics have yet to be built. `model.compile_metrics` will be empty until you train or evaluate the model.\n"
     ]
    },
    {
     "name": "stderr",
     "output_type": "stream",
     "text": [
      "WARNING:absl:Function `_wrapped_model` contains input name(s) Input with unsupported characters which will be renamed to input in the SavedModel.\n"
     ]
    },
    {
     "name": "stdout",
     "output_type": "stream",
     "text": [
      "INFO:tensorflow:Assets written to: PesosInicializadosMLP\\assets\n"
     ]
    },
    {
     "name": "stderr",
     "output_type": "stream",
     "text": [
      "INFO:tensorflow:Assets written to: PesosInicializadosMLP\\assets\n"
     ]
    }
   ],
   "source": [
    "inputs = keras.Input(shape=(4,), name = 'Input')\n",
    "x = layers.Dense(20, activation='relu', name = 'dense_1')(inputs)\n",
    "outputs = layers.Dense(3, activation='softmax', name = 'Output')(x)\n",
    "\n",
    "model = keras.Model(inputs=inputs, outputs=outputs, name='3_layer_mlp')\n",
    "model.summary()\n",
    "\n",
    "model.save('PesosInicializadosMLP')"
   ]
  },
  {
   "cell_type": "code",
   "execution_count": 22,
   "id": "9e49cbc2",
   "metadata": {},
   "outputs": [
    {
     "data": {
      "text/plain": [
       "[array([[-0.46080232, -0.289719  , -0.4386679 ,  0.3647468 , -0.0920862 ,\n",
       "         -0.40401816,  0.00340605,  0.12236822, -0.4286313 ,  0.3043518 ,\n",
       "          0.00594592, -0.00915837,  0.23097551, -0.29073083, -0.26624572,\n",
       "         -0.00173569,  0.16101134,  0.37902904, -0.01612616,  0.31390083],\n",
       "        [-0.29565978, -0.04797983, -0.4646144 ,  0.15822291, -0.19749582,\n",
       "         -0.12641704,  0.4373858 , -0.320786  , -0.10384452, -0.3631897 ,\n",
       "          0.07564235, -0.18324709, -0.32407033,  0.37194872,  0.39223742,\n",
       "         -0.06428874, -0.4258325 ,  0.27133167,  0.47810555,  0.3732972 ],\n",
       "        [ 0.03223491,  0.17277038,  0.26037967,  0.07574832, -0.19323039,\n",
       "          0.48471487, -0.15893793, -0.22744167,  0.05556214,  0.0077163 ,\n",
       "         -0.1990912 , -0.4168402 ,  0.08617592,  0.24611425, -0.07676518,\n",
       "         -0.1322627 , -0.39259017,  0.33120823,  0.2731248 , -0.13973522],\n",
       "        [-0.27134836, -0.32571435,  0.04288566, -0.26823473,  0.11790717,\n",
       "         -0.09360754,  0.329311  ,  0.03193009,  0.13054526, -0.20129812,\n",
       "         -0.4273647 ,  0.16521478,  0.09680963,  0.22767174,  0.2866403 ,\n",
       "          0.22451055, -0.4111514 , -0.18932855,  0.07705414, -0.45762074]],\n",
       "       dtype=float32),\n",
       " array([0., 0., 0., 0., 0., 0., 0., 0., 0., 0., 0., 0., 0., 0., 0., 0., 0.,\n",
       "        0., 0., 0.], dtype=float32),\n",
       " array([[ 0.5063202 ,  0.00332272, -0.12989867],\n",
       "        [ 0.11013782,  0.48573792, -0.4117154 ],\n",
       "        [-0.5082124 , -0.10249799, -0.40579832],\n",
       "        [-0.49514797, -0.02369511,  0.05598497],\n",
       "        [ 0.22116709, -0.40095928, -0.04506388],\n",
       "        [ 0.45191664,  0.11026883, -0.29352072],\n",
       "        [-0.44866067,  0.47146076,  0.09468102],\n",
       "        [ 0.09425128, -0.3348715 , -0.15185109],\n",
       "        [ 0.29121923, -0.28034863,  0.4589494 ],\n",
       "        [-0.16469148,  0.36612082,  0.31692052],\n",
       "        [-0.3629954 ,  0.35583913, -0.02133527],\n",
       "        [-0.12590829, -0.49736983,  0.32349056],\n",
       "        [-0.14836618,  0.47023124,  0.446342  ],\n",
       "        [-0.2714476 , -0.04389864, -0.353212  ],\n",
       "        [ 0.1209532 , -0.18449801,  0.26561958],\n",
       "        [ 0.28994256, -0.27542365, -0.1101082 ],\n",
       "        [-0.3683107 , -0.2744168 ,  0.4436705 ],\n",
       "        [ 0.44305372,  0.417656  , -0.46034786],\n",
       "        [ 0.07775879, -0.05371758, -0.25875655],\n",
       "        [ 0.03328693, -0.43675283,  0.30067134]], dtype=float32),\n",
       " array([0., 0., 0.], dtype=float32)]"
      ]
     },
     "execution_count": 22,
     "metadata": {},
     "output_type": "execute_result"
    }
   ],
   "source": [
    "model.get_weights()\n",
    "# https://www.tensorflow.org/guide/keras/save_and_serialize"
   ]
  },
  {
   "cell_type": "code",
   "execution_count": 23,
   "id": "00f4ce31",
   "metadata": {},
   "outputs": [
    {
     "data": {
      "text/plain": [
       "\"(x_train, y_train), (x_test, y_test) = keras.datasets.mnist.load_data()\\nx_train = x_train.reshape(60000, 784).astype('float32') / 255\\nx_test = x_test.reshape(10000, 784).astype('float32') / 255\\n\\nmodel.compile(loss='sparse_categorical_crossentropy',\\n              optimizer=keras.optimizers.RMSprop())\\nhistory = model.fit(x_train, y_train,\\n                    batch_size=64,\\n                    epochs=1)\\n                    \\npredictions = model.predict(x_test)\""
      ]
     },
     "execution_count": 23,
     "metadata": {},
     "output_type": "execute_result"
    }
   ],
   "source": [
    "\"\"\"(x_train, y_train), (x_test, y_test) = keras.datasets.mnist.load_data()\n",
    "x_train = x_train.reshape(60000, 784).astype('float32') / 255\n",
    "x_test = x_test.reshape(10000, 784).astype('float32') / 255\n",
    "\n",
    "model.compile(loss='sparse_categorical_crossentropy',\n",
    "              optimizer=keras.optimizers.RMSprop())\n",
    "history = model.fit(x_train, y_train,\n",
    "                    batch_size=64,\n",
    "                    epochs=1)\n",
    "                    \n",
    "predictions = model.predict(x_test)\"\"\""
   ]
  },
  {
   "cell_type": "code",
   "execution_count": 24,
   "id": "d79f6ec8",
   "metadata": {},
   "outputs": [
    {
     "data": {
      "text/plain": [
       "\"# Guardar el Modelo\\nmodel.save('path_to_my_model.h5')\\n\\n# Recrea exactamente el mismo modelo solo desde el archivo\\nnew_model = keras.models.load_model('path_to_my_model.h5')\""
      ]
     },
     "execution_count": 24,
     "metadata": {},
     "output_type": "execute_result"
    }
   ],
   "source": [
    "\"\"\"# Guardar el Modelo\n",
    "model.save('path_to_my_model.h5')\n",
    "\n",
    "# Recrea exactamente el mismo modelo solo desde el archivo\n",
    "new_model = keras.models.load_model('path_to_my_model.h5')\"\"\""
   ]
  },
  {
   "cell_type": "code",
   "execution_count": null,
   "id": "aae542f0",
   "metadata": {},
   "outputs": [],
   "source": []
  },
  {
   "cell_type": "code",
   "execution_count": null,
   "id": "5cad6eed",
   "metadata": {},
   "outputs": [],
   "source": []
  }
 ],
 "metadata": {
  "kernelspec": {
   "display_name": "Python 3 (ipykernel)",
   "language": "python",
   "name": "python3"
  },
  "language_info": {
   "codemirror_mode": {
    "name": "ipython",
    "version": 3
   },
   "file_extension": ".py",
   "mimetype": "text/x-python",
   "name": "python",
   "nbconvert_exporter": "python",
   "pygments_lexer": "ipython3",
   "version": "3.9.7"
  }
 },
 "nbformat": 4,
 "nbformat_minor": 5
}
